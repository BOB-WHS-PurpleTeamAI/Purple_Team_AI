{
  "nbformat": 4,
  "nbformat_minor": 0,
  "metadata": {
    "colab": {
      "provenance": []
    },
    "kernelspec": {
      "name": "python3",
      "display_name": "Python 3"
    },
    "language_info": {
      "name": "python"
    }
  },
  "cells": [
    {
      "cell_type": "code",
      "execution_count": 1,
      "metadata": {
        "colab": {
          "base_uri": "https://localhost:8080/"
        },
        "id": "DeF555PLg2Of",
        "outputId": "8d9f7d53-f023-4ab2-c35c-574c0cc0d398"
      },
      "outputs": [
        {
          "output_type": "stream",
          "name": "stdout",
          "text": [
            "Collecting sentencepiece\n",
            "  Downloading sentencepiece-0.1.99-cp310-cp310-manylinux_2_17_x86_64.manylinux2014_x86_64.whl (1.3 MB)\n",
            "\u001b[2K     \u001b[90m━━━━━━━━━━━━━━━━━━━━━━━━━━━━━━━━━━━━━━━━\u001b[0m \u001b[32m1.3/1.3 MB\u001b[0m \u001b[31m13.9 MB/s\u001b[0m eta \u001b[36m0:00:00\u001b[0m\n",
            "\u001b[?25hInstalling collected packages: sentencepiece\n",
            "Successfully installed sentencepiece-0.1.99\n"
          ]
        }
      ],
      "source": [
        "!pip install sentencepiece"
      ]
    },
    {
      "cell_type": "code",
      "source": [
        "import os\n",
        "import torch\n",
        "from sentencepiece import SentencePieceProcessor\n",
        "import json\n",
        "import random\n",
        "import copy"
      ],
      "metadata": {
        "id": "egKqpmASg9pE"
      },
      "execution_count": 2,
      "outputs": []
    },
    {
      "cell_type": "code",
      "source": [
        "spm=SentencePieceProcessor(model_file=\"pytest.model\")"
      ],
      "metadata": {
        "id": "UpvlKb5VhIAq"
      },
      "execution_count": 4,
      "outputs": []
    },
    {
      "cell_type": "code",
      "source": [
        "n_dec=512 #디코더 모델의 시퀀스 크기\n",
        "def makebatch(datafile,outfile,sid):\n",
        "  qs=[]\n",
        "  ans=[]\n",
        "  lines = open(datafile, 'r').readlines()\n",
        "  id=sid\n",
        "  with open(outfile, \"w\") as f:\n",
        "    for line in lines:\n",
        "      ans=spm.encode_as_ids(line)\n",
        "      l=len(ans)\n",
        "      if(l>n_dec-2):\n",
        "        ans=ans[:n_dec-2]\n",
        "      ans.insert(0,2) #vocab 상 2=bos 3= eos 6=mask\n",
        "      ans.append(3)\n",
        "      ran=random.randrange(1,l+2)\n",
        "      qs=copy.deepcopy(ans)\n",
        "      qs[ran]=6\n",
        "      datablock={\"ids\":id,\"anser\":ans,\"question\":qs}\n",
        "      f.write(json.dumps(datablock))\n",
        "      f.write(\"\\n\")\n",
        "      id+=1\n"
      ],
      "metadata": {
        "id": "N9YGjsXfhLwz"
      },
      "execution_count": 5,
      "outputs": []
    }
  ]
}