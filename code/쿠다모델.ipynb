{
  "nbformat": 4,
  "nbformat_minor": 0,
  "metadata": {
    "colab": {
      "provenance": [],
      "gpuType": "T4"
    },
    "kernelspec": {
      "name": "python3",
      "display_name": "Python 3"
    },
    "language_info": {
      "name": "python"
    },
    "accelerator": "GPU"
  },
  "cells": [
    {
      "cell_type": "code",
      "source": [
        "!pip install sentencepiece"
      ],
      "metadata": {
        "colab": {
          "base_uri": "https://localhost:8080/"
        },
        "id": "r9FckVzc4_34",
        "outputId": "8ea04ff5-7233-4b06-f6b7-4c87975ba026"
      },
      "execution_count": 1,
      "outputs": [
        {
          "output_type": "stream",
          "name": "stdout",
          "text": [
            "Collecting sentencepiece\n",
            "  Downloading sentencepiece-0.1.99-cp310-cp310-manylinux_2_17_x86_64.manylinux2014_x86_64.whl (1.3 MB)\n",
            "\u001b[2K     \u001b[90m━━━━━━━━━━━━━━━━━━━━━━━━━━━━━━━━━━━━━━━━\u001b[0m \u001b[32m1.3/1.3 MB\u001b[0m \u001b[31m8.4 MB/s\u001b[0m eta \u001b[36m0:00:00\u001b[0m\n",
            "\u001b[?25hInstalling collected packages: sentencepiece\n",
            "Successfully installed sentencepiece-0.1.99\n"
          ]
        }
      ]
    },
    {
      "cell_type": "code",
      "execution_count": 2,
      "metadata": {
        "id": "3MKZjRXO4yXd"
      },
      "outputs": [],
      "source": [
        "from tqdm import tqdm\n",
        "from sentencepiece import SentencePieceProcessor\n",
        "import torch\n",
        "from torch import nn\n",
        "from torch.nn import functional as F\n",
        "import numpy as np\n",
        "from matplotlib import pyplot as plt\n",
        "import time\n",
        "import pandas as pd\n",
        "import json\n",
        "import random\n",
        "import copy\n",
        "from collections import OrderedDict\n",
        "from sklearn.model_selection import train_test_split"
      ]
    },
    {
      "cell_type": "code",
      "source": [
        "spm=SentencePieceProcessor(model_file=\"sql2.model\")"
      ],
      "metadata": {
        "id": "pumNqCDc6rQw"
      },
      "execution_count": 3,
      "outputs": []
    },
    {
      "cell_type": "code",
      "source": [
        "MASTER_CONFIG = {\n",
        "    \"vocab_size\": spm.vocab_size(), #토크나이져 크기\n",
        "    'd_model': 128,\n",
        "    'batch_size':256,\n",
        "    'epochs':10,\n",
        "    'context_window':64,\n",
        "    'log_interval': 10,\n",
        "    'n_heads': 8, #헤드\n",
        "    'n_layers': 4,\n",
        "}"
      ],
      "metadata": {
        "id": "g742ozNw65OO"
      },
      "execution_count": 4,
      "outputs": []
    },
    {
      "cell_type": "code",
      "source": [
        "MASTER_CONFIG.update({\n",
        "    'd_model': 128,\n",
        "    'batch_size':1024,\n",
        "    'epochs':100,\n",
        "    'context_window':8,\n",
        "    'log_interval': 10,\n",
        "    'n_heads': 8,\n",
        "    'n_layers': 4,\n",
        "    's_id':0,\n",
        "    'msize':4,\n",
        "})"
      ],
      "metadata": {
        "id": "W_oo0nbY66y_"
      },
      "execution_count": 5,
      "outputs": []
    },
    {
      "cell_type": "code",
      "source": [
        "print(MASTER_CONFIG)"
      ],
      "metadata": {
        "colab": {
          "base_uri": "https://localhost:8080/"
        },
        "id": "omx2SOUrGjk7",
        "outputId": "4b72364b-1538-40ad-9a7c-6120ba44ee21"
      },
      "execution_count": 6,
      "outputs": [
        {
          "output_type": "stream",
          "name": "stdout",
          "text": [
            "{'vocab_size': 2007, 'd_model': 128, 'batch_size': 1024, 'epochs': 100, 'context_window': 8, 'log_interval': 10, 'n_heads': 8, 'n_layers': 4, 's_id': 0, 'msize': 4}\n"
          ]
        }
      ]
    },
    {
      "cell_type": "code",
      "source": [
        "@torch.no_grad()  # don't compute gradients for this function\n",
        "def evaluate_loss(model, config=MASTER_CONFIG):\n",
        "    out = {}\n",
        "    model.eval()\n",
        "    for split in [\"train\", \"val\"]:\n",
        "        losses = []\n",
        "        for _ in range(10):\n",
        "            xb, yb = get_batches_cuda(split, config['batch_size'])\n",
        "            _, loss = model(xb, yb)\n",
        "            losses.append(loss.item())\n",
        "        out[split] = np.mean(losses)\n",
        "    model.train()\n",
        "    return out"
      ],
      "metadata": {
        "id": "OLLp8zNxCbLB"
      },
      "execution_count": 20,
      "outputs": []
    },
    {
      "cell_type": "code",
      "source": [
        "n_dec=MASTER_CONFIG['context_window']\n",
        "def makebatch(datafile, trainfile, testfile, valfile):\n",
        "    qs = []\n",
        "    ans = []\n",
        "    lines = open(datafile, 'r').readlines()\n",
        "    train_data, test_data = train_test_split(lines, test_size=0.3, random_state=42)\n",
        "    test_data, val_data = train_test_split(test_data, test_size=0.2, random_state=42)\n",
        "    def write_to_file(file, data):\n",
        "        id=0\n",
        "        with open(file, \"w\") as f:\n",
        "            f.write(\"[\")\n",
        "            for i, line in enumerate(data):\n",
        "                ans = spm.encode_as_ids(line)\n",
        "                l = len(ans)\n",
        "                if (l > n_dec - 2):\n",
        "                    ans = ans[:n_dec - 2]\n",
        "                qs = copy.deepcopy(ans)\n",
        "                l = len(qs)\n",
        "                qs.insert(0,2)\n",
        "                ans.append(3)\n",
        "                ran = random.randrange(1, l + 1)\n",
        "                qs[ran] = 6 # vocab 상 2=bos 3= eos 6=mask\n",
        "                datablock = {\"id\": id, \"anser\": ans, \"question\": qs}\n",
        "                f.write(json.dumps(datablock))\n",
        "                if i == len(data) - 1:\n",
        "                  f.write(\"\\n\")\n",
        "                else:\n",
        "                  f.write(\",\\n\")\n",
        "                id += 1\n",
        "            f.write(\"]\")\n",
        "    write_to_file(trainfile, train_data)\n",
        "    write_to_file(testfile, test_data)\n",
        "    write_to_file(valfile, val_data)"
      ],
      "metadata": {
        "id": "3d0hwvEX69a-"
      },
      "execution_count": 37,
      "outputs": []
    },
    {
      "cell_type": "code",
      "source": [
        "makebatch(\"Kaggle_SQL_Data.txt\",\"train.json\",\"test.json\",\"val.json\")"
      ],
      "metadata": {
        "id": "kOZRU-vm7KUe"
      },
      "execution_count": 95,
      "outputs": []
    },
    {
      "cell_type": "code",
      "source": [
        "n_dec=MASTER_CONFIG['context_window']\n",
        "def makebatch_notmasked(datafile, trainfile, testfile, valfile):\n",
        "    qs = []\n",
        "    ans = []\n",
        "    lines = open(datafile, 'r').readlines()\n",
        "    train_data, test_data = train_test_split(lines, test_size=0.3, random_state=42)\n",
        "    test_data, val_data = train_test_split(test_data, test_size=0.2, random_state=42)\n",
        "    def write_to_file(file, data):\n",
        "        id=0\n",
        "        with open(file, \"w\") as f:\n",
        "            f.write(\"[\")\n",
        "            for i, line in enumerate(data):\n",
        "                ans = spm.encode_as_ids(line)\n",
        "                l = len(ans)\n",
        "                if (l > n_dec - 2):\n",
        "                    ans = ans[:n_dec - 2]\n",
        "                qs = copy.deepcopy(ans)\n",
        "                l = len(qs)\n",
        "                qs.insert(0,2)\n",
        "                ans.append(3)\n",
        "                #ran = random.randrange(1, l + 1)\n",
        "                #qs[ran] = 6 # vocab 상 2=bos 3= eos 6=mask\n",
        "                datablock = {\"id\": id, \"anser\": ans, \"question\": qs}\n",
        "                f.write(json.dumps(datablock))\n",
        "                if i == len(data) - 1:\n",
        "                  f.write(\"\\n\")\n",
        "                else:\n",
        "                  f.write(\",\\n\")\n",
        "                id += 1\n",
        "            f.write(\"]\")\n",
        "    write_to_file(trainfile, train_data)\n",
        "    write_to_file(testfile, test_data)\n",
        "    write_to_file(valfile, val_data)"
      ],
      "metadata": {
        "id": "j_WBqijYbpPX"
      },
      "execution_count": 47,
      "outputs": []
    },
    {
      "cell_type": "code",
      "source": [
        "makebatch_notmasked(\"Kaggle_SQL_Data.txt\",\"train.json\",\"test.json\",\"val.json\")"
      ],
      "metadata": {
        "id": "lEXQEmJ3bwLU"
      },
      "execution_count": 63,
      "outputs": []
    },
    {
      "cell_type": "code",
      "source": [
        "def searchbyid(id,id_dict):\n",
        "  if id in id_dict:\n",
        "    result = id_dict[id]\n",
        "    ans=result.get('anser')\n",
        "    q=result.get('question')\n",
        "    ans=torch.tensor(ans,dtype=torch.long).to(\"cuda\")\n",
        "    q=torch.tensor(q,dtype=torch.long).to(\"cuda\")\n",
        "    return ans,q"
      ],
      "metadata": {
        "id": "MOpOx7zM7NAn"
      },
      "execution_count": 39,
      "outputs": []
    },
    {
      "cell_type": "code",
      "source": [
        "def get_batches_cuda(split, batch_size, config=MASTER_CONFIG):\n",
        "  if split == 'val':\n",
        "    val=open(\"val.json\",'r')\n",
        "    batch_data = val\n",
        "  elif split == 'test':\n",
        "    test=open(\"test.json\",'r')\n",
        "    batch_data = test\n",
        "  else:\n",
        "    train=open(\"train.json\",'r')\n",
        "    batch_data = train\n",
        "  d=json.load(batch_data)\n",
        "  id_dict = {item[\"id\"]: item for item in d}\n",
        "  max_id = max(id_dict.keys()) if id_dict else None\n",
        "  rand= random.randint(0, max_id-batch_size)\n",
        "  x=[]\n",
        "  y=[]\n",
        "  for _ in range(rand,rand+batch_size):\n",
        "    ans,q=searchbyid(_,id_dict)\n",
        "    size_of_ans=ans.size()[0]\n",
        "    if size_of_ans>MASTER_CONFIG['context_window']:\n",
        "      ans=ans[:MASTER_CONFIG['context_window']]\n",
        "      q=q[:MASTER_CONFIG['context_window']]\n",
        "    ans=ans.to(device)\n",
        "    q=q.to(device)\n",
        "    x.append(ans)\n",
        "    y.append(q)\n",
        "  size_of_x = x[0].size()[0]\n",
        "  size_of_y = y[0].size()[0]\n",
        "  x[0]=F.pad(x[0], (0,MASTER_CONFIG['context_window']-int(size_of_x)), mode='constant', value=0)\n",
        "  y[0]=F.pad(y[0], (0,MASTER_CONFIG['context_window']-int(size_of_y)), mode='constant', value=0)\n",
        "  x = torch.nn.utils.rnn.pad_sequence(x, batch_first=True, padding_value=0)\n",
        "  y = torch.nn.utils.rnn.pad_sequence(y, batch_first=True, padding_value=0)\n",
        "  return y,x\n",
        "def train_cuda(model, optimizer, scheduler=None, config=MASTER_CONFIG, print_logs=False):\n",
        "    model=model.to(\"cuda\")\n",
        "    losses = []\n",
        "    start_time = time.time()\n",
        "    for epoch in tqdm(range(config['epochs'])):\n",
        "        optimizer.zero_grad()\n",
        "        xs, ys = get_batches_cuda('train', MASTER_CONFIG['batch_size'], config=MASTER_CONFIG)\n",
        "        #xs, ys = xs.to(device), ys.to(device)  # 입력 데이터를 GPU로 이동\n",
        "        logits, loss = model(xs, targets=ys.long())\n",
        "        loss.backward()\n",
        "        optimizer.step()\n",
        "\n",
        "        if scheduler:\n",
        "            scheduler.step()\n",
        "\n",
        "        if epoch % config['log_interval'] == 0:\n",
        "            batch_time = time.time() - start_time\n",
        "            x = evaluate_loss(model)\n",
        "            losses += [x]\n",
        "            if print_logs:\n",
        "                print(f\"Epoch {epoch} | val loss {x['val']:.3f} | Time {batch_time:.3f} | ETA in seconds {batch_time * (config['epochs'] - epoch)/config['log_interval'] :.3f}\")\n",
        "            start_time = time.time()\n",
        "\n",
        "            if scheduler:\n",
        "                print(\"lr: \", scheduler.get_lr())\n",
        "\n",
        "    print(\"validation loss: \", losses[-1]['val'])\n",
        "    return pd.DataFrame(losses).plot()"
      ],
      "metadata": {
        "id": "5_DNuOoE7USv"
      },
      "execution_count": 78,
      "outputs": []
    },
    {
      "cell_type": "code",
      "source": [
        "class RMSNorm(nn.Module):\n",
        "    def __init__(self, layer_shape, eps=1e-8, bias=False):\n",
        "        super(RMSNorm, self).__init__()\n",
        "        self.register_parameter(\"scale\", nn.Parameter(torch.ones(layer_shape)))\n",
        "\n",
        "    def forward(self, x):\n",
        "        \"\"\"\n",
        "        assumes shape is (batch, seq_len, d_model)\n",
        "        \"\"\"\n",
        "        # frob norm is not the same as RMS. RMS = 1/sqrt(N) * frob norm\n",
        "        ff_rms = torch.linalg.norm(x, dim=(1,2)) * x[0].numel() ** -.5\n",
        "        ff_rms = ff_rms.to(\"cuda\")\n",
        "        raw = x / ff_rms.unsqueeze(-1).unsqueeze(-1)\n",
        "        #raw.to(\"cuda\")\n",
        "        return self.scale[:x.shape[1], :].unsqueeze(0).to(\"cuda\") * raw\n",
        "def get_rotary_matrix(context_window, embedding_dim):\n",
        "    R = torch.zeros((context_window, embedding_dim, embedding_dim), requires_grad=False).to(\"cuda\")\n",
        "    for position in range(context_window):\n",
        "        for i in range(embedding_dim//2):\n",
        "            theta = 10000. ** (-2.*(i - 1) / embedding_dim)\n",
        "            m_theta = position * theta\n",
        "            R[position, 2*i,2*i] = np.cos(m_theta)\n",
        "            R[position, 2*i,2*i+1] = - np.sin(m_theta)\n",
        "            R[position, 2*i+1,2*i] = np.sin(m_theta)\n",
        "            R[position, 2*i+1,2*i+1] = np.cos(m_theta)\n",
        "    return R\n",
        "class RoPEMaskedAttentionHead(nn.Module):\n",
        "    def __init__(self, config):\n",
        "        super().__init__()\n",
        "        self.config = config\n",
        "        self.w_q = nn.Linear(config['d_model'], config['d_model'], bias=False)\n",
        "        self.w_k = nn.Linear(config['d_model'], config['d_model'], bias=False)\n",
        "        self.w_v = nn.Linear(config['d_model'], config['d_model'], bias=False)\n",
        "\n",
        "        self.R = get_rotary_matrix(config['context_window'], config['d_model'])\n",
        "\n",
        "    def forward(self, x, return_attn_weights=False):\n",
        "        b,m,d = x.shape\n",
        "\n",
        "        q = self.w_q(x)\n",
        "        k = self.w_k(x)\n",
        "        v = self.w_v(x)\n",
        "        if device==\"cuda\":\n",
        "          q=q.to(device)\n",
        "          k=k.to(device)\n",
        "          v=v.to(device)\n",
        "\n",
        "        q_rotated = (torch.bmm(q.transpose(0,1), self.R[:m])).transpose(0,1)\n",
        "        k_rotated = (torch.bmm(k.transpose(0,1), self.R[:m])).transpose(0,1)\n",
        "\n",
        "        activations = F.scaled_dot_product_attention(\n",
        "            q_rotated,k_rotated,v,dropout_p =.1, is_causal=True\n",
        "        )\n",
        "\n",
        "        if return_attn_weights:\n",
        "            attn_mask = torch.tril(torch.ones((m,m)), diagonal=0)\n",
        "            attn_weights = torch.bmm(q_rotated, k_rotated.transpose(1,2)) / np.sqrt(d) + attn_mask\n",
        "            attn_weights = F.softmax(attn_weights, dim=-1)\n",
        "            return activations, attn_weights\n",
        "        return activations\n",
        "\n",
        "class RoPEMaskedMultiheadAttention(nn.Module):\n",
        "    def __init__(self, config):\n",
        "        super().__init__()\n",
        "        self.config = config\n",
        "        self.heads = nn.ModuleList([\n",
        "            RoPEMaskedAttentionHead(config) for _ in range(config['n_heads'])\n",
        "        ])\n",
        "        self.linear = nn.Linear(config['n_heads'] * config['d_model'], config['d_model'])\n",
        "        self.dropout = nn.Dropout(.1)\n",
        "\n",
        "    def forward(self, x):\n",
        "        heads = [h(x) for h in self.heads]\n",
        "        x = torch.cat(heads, dim=-1)\n",
        "        x = self.linear(x)\n",
        "        x = self.dropout(x)\n",
        "        return x\n",
        "\n",
        "class SwiGLU(nn.Module):\n",
        "    \"\"\"\n",
        "    Swish-Gated Linear Unit\n",
        "    https://arxiv.org/pdf/2002.05202v1.pdf\n",
        "    \"\"\"\n",
        "    def __init__(self, size):\n",
        "        super().__init__()\n",
        "        self.config = MASTER_CONFIG\n",
        "        self.linear_gate = nn.Linear(size, size)\n",
        "        self.linear = nn.Linear(size, size)\n",
        "        self.beta = torch.randn(1, requires_grad=True)\n",
        "\n",
        "        self.beta = nn.Parameter(torch.ones(1))\n",
        "        self.register_parameter(\"beta\", self.beta)\n",
        "\n",
        "    def forward(self, x):\n",
        "        swish_gate = self.linear_gate(x) * torch.sigmoid(self.beta * self.linear_gate(x))\n",
        "        out = swish_gate * self.linear(x)\n",
        "        return out\n",
        "class LlamaBlock(nn.Module):\n",
        "    def __init__(self, config):\n",
        "        super().__init__()\n",
        "        self.config = config\n",
        "\n",
        "        self.rms = RMSNorm((config['context_window'], config['d_model']))\n",
        "\n",
        "        self.attention = RoPEMaskedMultiheadAttention(config)\n",
        "        self.feedforward = nn.Sequential(\n",
        "            nn.Linear(config['d_model'], config['d_model']),\n",
        "            SwiGLU(config['d_model']),\n",
        "        )\n",
        "\n",
        "    def forward(self, x):\n",
        "        x = self.rms(x) # rms pre-normalization\n",
        "        x = x + self.attention(x)\n",
        "\n",
        "        x = self.rms(x) # rms pre-normalization\n",
        "        x = x + self.feedforward(x)\n",
        "        return x\n",
        "class Llama(nn.Module):\n",
        "    def __init__(self, config):\n",
        "        super().__init__()\n",
        "        self.config = config\n",
        "        self.embeddings = nn.Embedding(config['vocab_size'], config['d_model']).to(\"cuda\")\n",
        "        self.llama_blocks = nn.Sequential(\n",
        "            OrderedDict([(f\"llama_{i}\", LlamaBlock(config)) for i in range(config['n_layers'])])\n",
        "        )\n",
        "\n",
        "        self.ffn = nn.Sequential(\n",
        "            nn.Linear(config['d_model'], config['d_model']),\n",
        "            SwiGLU(config['d_model']),\n",
        "            nn.Linear(config['d_model'], config['vocab_size']),\n",
        "        ).to(\"cuda\")\n",
        "\n",
        "        print(\"model params:\", sum([m.numel() for m in self.parameters()]))\n",
        "\n",
        "    def forward(self, idx, targets=None):\n",
        "        x = self.embeddings(idx)\n",
        "        x = self.llama_blocks(x)\n",
        "        logits = self.ffn(x)\n",
        "\n",
        "        if targets is None:\n",
        "            return logits\n",
        "\n",
        "        else:\n",
        "            loss = F.cross_entropy(logits.view(-1, self.config['vocab_size']), targets.view(-1))\n",
        "            return logits, loss"
      ],
      "metadata": {
        "id": "8yeT8gKU7fRG"
      },
      "execution_count": 41,
      "outputs": []
    },
    {
      "cell_type": "code",
      "source": [
        "device=torch.device(\"cuda\" if torch.cuda.is_available() else \"cpu\")"
      ],
      "metadata": {
        "id": "Dh1lHi4eBzqd"
      },
      "execution_count": 83,
      "outputs": []
    },
    {
      "cell_type": "code",
      "source": [
        "llama2 = Llama(MASTER_CONFIG)"
      ],
      "metadata": {
        "colab": {
          "base_uri": "https://localhost:8080/"
        },
        "id": "yWknfOKCfR9o",
        "outputId": "a5966ede-ac2b-4733-dc2e-1f99e7071eaa"
      },
      "execution_count": 84,
      "outputs": [
        {
          "output_type": "stream",
          "name": "stdout",
          "text": [
            "model params: 2865244\n"
          ]
        }
      ]
    },
    {
      "cell_type": "code",
      "source": [
        "optimizer = torch.optim.Adam(llama2.parameters())"
      ],
      "metadata": {
        "id": "iW2FGinr9RjR"
      },
      "execution_count": 85,
      "outputs": []
    },
    {
      "cell_type": "code",
      "source": [
        "train_cuda(llama2, optimizer, config=MASTER_CONFIG)"
      ],
      "metadata": {
        "colab": {
          "base_uri": "https://localhost:8080/",
          "height": 484
        },
        "id": "ACltF2aTCNrh",
        "outputId": "765767fd-c090-4749-ff43-d07530c2b6ef"
      },
      "execution_count": 88,
      "outputs": [
        {
          "output_type": "stream",
          "name": "stderr",
          "text": [
            "100%|██████████| 100/100 [00:39<00:00,  2.55it/s]"
          ]
        },
        {
          "output_type": "stream",
          "name": "stdout",
          "text": [
            "validation loss:  2.257420468330383\n"
          ]
        },
        {
          "output_type": "stream",
          "name": "stderr",
          "text": [
            "\n"
          ]
        },
        {
          "output_type": "execute_result",
          "data": {
            "text/plain": [
              "<Axes: >"
            ]
          },
          "metadata": {},
          "execution_count": 88
        },
        {
          "output_type": "display_data",
          "data": {
            "text/plain": [
              "<Figure size 640x480 with 1 Axes>"
            ],
            "image/png": "[encoded data removed]"
          },
          "metadata": {}
        }
      ]
    },
    {
      "cell_type": "code",
      "source": [
        "train_cuda(llama2, optimizer, config=MASTER_CONFIG)"
      ],
      "metadata": {
        "colab": {
          "base_uri": "https://localhost:8080/",
          "height": 484
        },
        "id": "q4fM-Gy2lyGs",
        "outputId": "210433c7-d04d-42cc-e7b0-61160d188845"
      },
      "execution_count": 97,
      "outputs": [
        {
          "output_type": "stream",
          "name": "stderr",
          "text": [
            "100%|██████████| 100/100 [01:11<00:00,  1.40it/s]"
          ]
        },
        {
          "output_type": "stream",
          "name": "stdout",
          "text": [
            "validation loss:  1.8989244461059571\n"
          ]
        },
        {
          "output_type": "stream",
          "name": "stderr",
          "text": [
            "\n"
          ]
        },
        {
          "output_type": "execute_result",
          "data": {
            "text/plain": [
              "<Axes: >"
            ]
          },
          "metadata": {},
          "execution_count": 97
        },
        {
          "output_type": "display_data",
          "data": {
            "text/plain": [
              "<Figure size 640x480 with 1 Axes>"
            ],
            "image/png": "[encoded data removed]"
          },
          "metadata": {}
        }
      ]
    },
    {
      "cell_type": "code",
      "source": [
        "train_cuda(llama2, optimizer, config=MASTER_CONFIG)"
      ],
      "metadata": {
        "colab": {
          "base_uri": "https://localhost:8080/",
          "height": 484
        },
        "id": "5G00AMHCl-hh",
        "outputId": "03a1d0c3-ebff-40d3-ba96-d2d30d61e9c4"
      },
      "execution_count": 92,
      "outputs": [
        {
          "output_type": "stream",
          "name": "stderr",
          "text": [
            "100%|██████████| 300/300 [03:37<00:00,  1.38it/s]"
          ]
        },
        {
          "output_type": "stream",
          "name": "stdout",
          "text": [
            "validation loss:  1.7145881056785583\n"
          ]
        },
        {
          "output_type": "stream",
          "name": "stderr",
          "text": [
            "\n"
          ]
        },
        {
          "output_type": "execute_result",
          "data": {
            "text/plain": [
              "<Axes: >"
            ]
          },
          "metadata": {},
          "execution_count": 92
        },
        {
          "output_type": "display_data",
          "data": {
            "text/plain": [
              "<Figure size 640x480 with 1 Axes>"
            ],
            "image/png": "[encoded data removed]"
          },
          "metadata": {}
        }
      ]
    },
    {
      "cell_type": "code",
      "source": [
        "MASTER_CONFIG.update({\n",
        "    'd_model': 128,\n",
        "    'batch_size':1024,\n",
        "    'epochs':100,\n",
        "    'context_window':8,\n",
        "    'log_interval': 10,\n",
        "    'n_heads': 8,\n",
        "    'n_layers': 4,\n",
        "    's_id':0,\n",
        "    'msize':4,\n",
        "})"
      ],
      "metadata": {
        "id": "y3aCDJkkONFk"
      },
      "execution_count": 96,
      "outputs": []
    },
    {
      "cell_type": "code",
      "source": [
        "xs,ys=get_batches_cuda('train', MASTER_CONFIG['batch_size'], config=MASTER_CONFIG)"
      ],
      "metadata": {
        "id": "JmxxphEkZXMc"
      },
      "execution_count": 79,
      "outputs": []
    },
    {
      "cell_type": "code",
      "source": [
        "print(xs[1023])\n",
        "print(ys[1023])"
      ],
      "metadata": {
        "colab": {
          "base_uri": "https://localhost:8080/"
        },
        "id": "WvozDRtxZjIv",
        "outputId": "c3cdf053-4ff2-4e8f-d4b1-1b2326361e7e"
      },
      "execution_count": 81,
      "outputs": [
        {
          "output_type": "stream",
          "name": "stdout",
          "text": [
            "tensor([   2,  329, 1954, 1928,  138,  495, 1938,    0], device='cuda:0')\n",
            "tensor([ 329, 1954, 1928,  138,  495, 1938,    3,    0], device='cuda:0')\n"
          ]
        }
      ]
    },
    {
      "cell_type": "code",
      "source": [
        "model_weights = llama2.state_dict()\n",
        "torch.save(model_weights, 'lm5.pth')"
      ],
      "metadata": {
        "id": "Tn6P-GpIMThk"
      },
      "execution_count": 94,
      "outputs": []
    }
  ]
}