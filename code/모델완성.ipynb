{
  "cells": [
    {
      "cell_type": "code",
      "execution_count": 1,
      "metadata": {
        "colab": {
          "base_uri": "https://localhost:8080/"
        },
        "id": "I67KSeipvbcb",
        "outputId": "95523159-4fe4-405b-f89c-2420362cd196"
      },
      "outputs": [
        {
          "output_type": "stream",
          "name": "stdout",
          "text": [
            "Collecting sentencepiece\n",
            "  Downloading sentencepiece-0.1.99-cp310-cp310-manylinux_2_17_x86_64.manylinux2014_x86_64.whl (1.3 MB)\n",
            "\u001b[2K     \u001b[90m━━━━━━━━━━━━━━━━━━━━━━━━━━━━━━━━━━━━━━━━\u001b[0m \u001b[32m1.3/1.3 MB\u001b[0m \u001b[31m6.7 MB/s\u001b[0m eta \u001b[36m0:00:00\u001b[0m\n",
            "\u001b[?25hInstalling collected packages: sentencepiece\n",
            "Successfully installed sentencepiece-0.1.99\n"
          ]
        }
      ],
      "source": [
        "!pip install sentencepiece"
      ]
    },
    {
      "cell_type": "code",
      "execution_count": 2,
      "metadata": {
        "id": "LWi8g81TxN60"
      },
      "outputs": [],
      "source": [
        "from tqdm import tqdm"
      ]
    },
    {
      "cell_type": "code",
      "execution_count": 3,
      "metadata": {
        "id": "krQKBypIv3GJ"
      },
      "outputs": [],
      "source": [
        "from sentencepiece import SentencePieceProcessor\n",
        "import torch\n",
        "from torch import nn\n",
        "from torch.nn import functional as F\n",
        "import numpy as np\n",
        "from matplotlib import pyplot as plt\n",
        "import time\n",
        "import pandas as pd\n",
        "import json\n",
        "import random\n",
        "from collections import OrderedDict"
      ]
    },
    {
      "cell_type": "code",
      "execution_count": 4,
      "metadata": {
        "id": "1C5ZuflkveXK"
      },
      "outputs": [],
      "source": [
        "spm=SentencePieceProcessor(model_file=\"pytest.model\")"
      ]
    },
    {
      "cell_type": "code",
      "execution_count": 5,
      "metadata": {
        "id": "9wiBR94IwWDC"
      },
      "outputs": [],
      "source": [
        "MASTER_CONFIG = {\n",
        "    \"vocab_size\": spm.vocab_size(),\n",
        "}"
      ]
    },
    {
      "cell_type": "code",
      "source": [
        "MASTER_CONFIG.update({\n",
        "    'd_model': 128,\n",
        "    'batch_size':256,\n",
        "    'epochs':100,\n",
        "    'context_window':32,\n",
        "    'log_interval': 10,\n",
        "    'n_heads': 8,\n",
        "    'n_layers': 4,\n",
        "})"
      ],
      "metadata": {
        "id": "JUk-eqLn_Q9e"
      },
      "execution_count": 119,
      "outputs": []
    },
    {
      "cell_type": "code",
      "execution_count": 92,
      "metadata": {
        "colab": {
          "base_uri": "https://localhost:8080/"
        },
        "id": "LhlG9A2dwdkZ",
        "outputId": "aa2e5f0c-f0af-4bd4-e355-810f01ebfc19"
      },
      "outputs": [
        {
          "output_type": "stream",
          "name": "stdout",
          "text": [
            "{'vocab_size': 8007, 'd_model': 128, 'batch_size': 256, 'epochs': 100, 'context_window': 64, 'log_interval': 10, 'n_heads': 8, 'n_layers': 4}\n"
          ]
        }
      ],
      "source": [
        "print(MASTER_CONFIG)"
      ]
    },
    {
      "cell_type": "code",
      "execution_count": 9,
      "metadata": {
        "id": "6nAthLaFxWsP"
      },
      "outputs": [],
      "source": [
        "def searchbyid(id,id_dict):\n",
        "  if id in id_dict:\n",
        "    result = id_dict[id]\n",
        "    ans=result.get('anser')\n",
        "    q=result.get('question')\n",
        "    ans=torch.tensor(ans,dtype=torch.long)\n",
        "    q=torch.tensor(q,dtype=torch.long)\n",
        "    return ans,q"
      ]
    },
    {
      "cell_type": "code",
      "execution_count": 97,
      "metadata": {
        "id": "KS3RQ6b-szmq"
      },
      "outputs": [],
      "source": [
        "def get_batches(split, batch_size, config=MASTER_CONFIG):\n",
        "  if split == 'val':\n",
        "    val=open(\"val.json\",'r')\n",
        "    batch_data = val\n",
        "  elif split == 'test':\n",
        "    test=open(\"test.json\",'r')\n",
        "    batch_data = test\n",
        "  else:\n",
        "    train=open(\"train.json\",'r')\n",
        "    batch_data = train\n",
        "  d=json.load(batch_data)\n",
        "  id_dict = {item[\"id\"]: item for item in d}\n",
        "  max_id = max(id_dict.keys()) if id_dict else None\n",
        "  rand= random.randint(0, max_id-batch_size)\n",
        "  x=[]\n",
        "  y=[]\n",
        "  for _ in range(rand,rand+batch_size):\n",
        "    ans,q=searchbyid(_,id_dict)\n",
        "    x.append(ans)\n",
        "    y.append(q)\n",
        "    rand=rand+1\n",
        "  size_of_x = x[0].size()[0]\n",
        "  size_of_y = y[0].size()[0]\n",
        "  x[0]=F.pad(x[0], (0,MASTER_CONFIG['context_window']-int(size_of_x)), mode='constant', value=0)\n",
        "  y[0]=F.pad(y[0], (0,MASTER_CONFIG['context_window']-int(size_of_y)), mode='constant', value=0)\n",
        "  x = torch.nn.utils.rnn.pad_sequence(x, batch_first=True, padding_value=0)\n",
        "  y = torch.nn.utils.rnn.pad_sequence(y, batch_first=True, padding_value=0)\n",
        "  return x,y\n"
      ]
    },
    {
      "cell_type": "code",
      "execution_count": 11,
      "metadata": {
        "id": "DLaVlM9b1XwT"
      },
      "outputs": [],
      "source": [
        "@torch.no_grad()  # don't compute gradients for this function\n",
        "def evaluate_loss(model, config=MASTER_CONFIG):\n",
        "    out = {}\n",
        "    model.eval()\n",
        "    for split in [\"train\", \"val\"]:\n",
        "        losses = []\n",
        "        for _ in range(10):\n",
        "            xb, yb = get_batches(split, config['batch_size'])\n",
        "            _, loss = model(xb, yb)\n",
        "            losses.append(loss.item())\n",
        "        out[split] = np.mean(losses)\n",
        "    model.train()\n",
        "    return out"
      ]
    },
    {
      "cell_type": "code",
      "execution_count": null,
      "metadata": {
        "colab": {
          "base_uri": "https://localhost:8080/"
        },
        "id": "_RYLlntshMog",
        "outputId": "512ee1d1-f0f3-4b6a-c577-b1abdc5465a9"
      },
      "outputs": [
        {
          "name": "stdout",
          "output_type": "stream",
          "text": [
            "model params: 2074311\n"
          ]
        }
      ],
      "source": [
        "MASTER_CONFIG.update({\n",
        "    'd_model': 128,\n",
        "    'batch_size':8,\n",
        "})\n",
        "model = SimpleBrokenModel(MASTER_CONFIG)\n",
        "\n",
        "xs, ys = get_batches( 'train', MASTER_CONFIG['batch_size'], config=MASTER_CONFIG)\n",
        "\n",
        "logits, loss = model(xs, ys)"
      ]
    },
    {
      "cell_type": "code",
      "execution_count": null,
      "metadata": {
        "colab": {
          "base_uri": "https://localhost:8080/"
        },
        "id": "UDDLUAYzkAw8",
        "outputId": "72ba1d91-4a80-4b48-c4c9-54aa12e73499"
      },
      "outputs": [
        {
          "name": "stdout",
          "output_type": "stream",
          "text": [
            "model params: 2074311\n"
          ]
        }
      ],
      "source": [
        "MASTER_CONFIG.update({\n",
        "    'epochs': 500,\n",
        "    'log_interval': 10,\n",
        "    'batch_size': 256,\n",
        "    'context_window':16,\n",
        "})\n",
        "model = SimpleBrokenModel(MASTER_CONFIG)\n",
        "\n",
        "optimizer = torch.optim.Adam(\n",
        "    model.parameters(),\n",
        ")"
      ]
    },
    {
      "cell_type": "code",
      "execution_count": 13,
      "metadata": {
        "id": "z3DJ-kmdkz66"
      },
      "outputs": [],
      "source": [
        "def train(model, optimizer, scheduler=None, config=MASTER_CONFIG, print_logs=False):\n",
        "    losses = []\n",
        "    start_time = time.time()\n",
        "    for epoch in tqdm(range(config['epochs'])):\n",
        "        optimizer.zero_grad()\n",
        "\n",
        "        xs, ys = get_batches( 'train', MASTER_CONFIG['batch_size'], config=MASTER_CONFIG)\n",
        "        logits, loss = model(xs, targets=ys.long())\n",
        "        loss.backward()\n",
        "        optimizer.step()\n",
        "\n",
        "        if scheduler:\n",
        "            scheduler.step()\n",
        "\n",
        "        if epoch % config['log_interval'] == 0:\n",
        "            batch_time = time.time() - start_time\n",
        "            x = evaluate_loss(model)\n",
        "            losses += [x]\n",
        "            if print_logs:\n",
        "                print(f\"Epoch {epoch} | val loss {x['val']:.3f} | Time {batch_time:.3f} | ETA in seconds {batch_time * (config['epochs'] - epoch)/config['log_interval'] :.3f}\")\n",
        "            start_time = time.time()\n",
        "\n",
        "            if scheduler:\n",
        "                print(\"lr: \", scheduler.get_lr())\n",
        "\n",
        "    print(\"validation loss: \", losses[-1]['val'])\n",
        "    return pd.DataFrame(losses).plot()\n"
      ]
    },
    {
      "cell_type": "code",
      "execution_count": 68,
      "metadata": {
        "id": "u6mSctX5uvVm"
      },
      "outputs": [],
      "source": [
        "class RMSNorm(nn.Module):\n",
        "    def __init__(self, layer_shape, eps=1e-8, bias=False):\n",
        "        super(RMSNorm, self).__init__()\n",
        "        self.register_parameter(\"scale\", nn.Parameter(torch.ones(layer_shape)))\n",
        "\n",
        "    def forward(self, x):\n",
        "        \"\"\"\n",
        "        assumes shape is (batch, seq_len, d_model)\n",
        "        \"\"\"\n",
        "        # frob norm is not the same as RMS. RMS = 1/sqrt(N) * frob norm\n",
        "        ff_rms = torch.linalg.norm(x, dim=(1,2)) * x[0].numel() ** -.5\n",
        "        raw = x / ff_rms.unsqueeze(-1).unsqueeze(-1)\n",
        "        return self.scale[:x.shape[1], :].unsqueeze(0) * raw"
      ]
    },
    {
      "cell_type": "code",
      "source": [
        "class RoPEMaskedAttentionHead(nn.Module):\n",
        "    def __init__(self, config):\n",
        "        super().__init__()\n",
        "        self.config = config\n",
        "        self.w_q = nn.Linear(config['d_model'], config['d_model'], bias=False)\n",
        "        self.w_k = nn.Linear(config['d_model'], config['d_model'], bias=False)\n",
        "        self.w_v = nn.Linear(config['d_model'], config['d_model'], bias=False)\n",
        "\n",
        "        self.R = get_rotary_matrix(config['context_window'], config['d_model'])\n",
        "\n",
        "    def get_rotary_matrix(context_window, embedding_dim):\n",
        "        R = torch.zeros((context_window, embedding_dim, embedding_dim), requires_grad=False)\n",
        "        for position in range(context_window):\n",
        "            for i in range(embedding_dim//2):\n",
        "                theta = 10000. ** (-2.*(i - 1) / embedding_dim)\n",
        "                m_theta = position * theta\n",
        "                R[position, 2*i,2*i] = np.cos(m_theta)\n",
        "                R[position, 2*i,2*i+1] = - np.sin(m_theta)\n",
        "                R[position, 2*i+1,2*i] = np.sin(m_theta)\n",
        "                R[position, 2*i+1,2*i+1] = np.cos(m_theta)\n",
        "        return R\n",
        "\n",
        "    def forward(self, x, return_attn_weights=False):\n",
        "        b,m,d = x.shape\n",
        "\n",
        "        q = self.w_q(x)\n",
        "        k = self.w_k(x)\n",
        "        v = self.w_v(x)\n",
        "\n",
        "        q_rotated = (torch.bmm(q.transpose(0,1), self.R[:m])).transpose(0,1)\n",
        "        k_rotated = (torch.bmm(k.transpose(0,1), self.R[:m])).transpose(0,1)\n",
        "\n",
        "        activations = F.scaled_dot_product_attention(\n",
        "            q_rotated,k_rotated,v,dropout_p =.1, is_causal=True\n",
        "        )\n",
        "\n",
        "        if return_attn_weights:\n",
        "            attn_mask = torch.tril(torch.ones((m,m)), diagonal=0)\n",
        "            attn_weights = torch.bmm(q_rotated, k_rotated.transpose(1,2)) / np.sqrt(d) + attn_mask\n",
        "            attn_weights = F.softmax(attn_weights, dim=-1)\n",
        "            return activations, attn_weights\n",
        "        return activations"
      ],
      "metadata": {
        "id": "LUaETONSKyll"
      },
      "execution_count": 74,
      "outputs": []
    },
    {
      "cell_type": "code",
      "source": [
        "class RoPEMaskedMultiheadAttention(nn.Module):\n",
        "    def __init__(self, config):\n",
        "        super().__init__()\n",
        "        self.config = config\n",
        "        self.heads = nn.ModuleList([\n",
        "            RoPEMaskedAttentionHead(config) for _ in range(config['n_heads'])\n",
        "        ])\n",
        "        self.linear = nn.Linear(config['n_heads'] * config['d_model'], config['d_model'])\n",
        "        self.dropout = nn.Dropout(.1)\n",
        "\n",
        "    def forward(self, x):\n",
        "        heads = [h(x) for h in self.heads]\n",
        "        x = torch.cat(heads, dim=-1)\n",
        "        x = self.linear(x)\n",
        "        x = self.dropout(x)\n",
        "        return x"
      ],
      "metadata": {
        "id": "lyv0y-__LjNz"
      },
      "execution_count": 77,
      "outputs": []
    },
    {
      "cell_type": "code",
      "source": [
        "class SwiGLU(nn.Module):\n",
        "    \"\"\"\n",
        "    Swish-Gated Linear Unit\n",
        "    https://arxiv.org/pdf/2002.05202v1.pdf\n",
        "    \"\"\"\n",
        "    def __init__(self, size):\n",
        "        super().__init__()\n",
        "        self.config = config\n",
        "        self.linear_gate = nn.Linear(size, size)\n",
        "        self.linear = nn.Linear(size, size)\n",
        "        self.beta = torch.randn(1, requires_grad=True)\n",
        "\n",
        "        self.beta = nn.Parameter(torch.ones(1))\n",
        "        self.register_parameter(\"beta\", self.beta)\n",
        "\n",
        "    def forward(self, x):\n",
        "        swish_gate = self.linear_gate(x) * torch.sigmoid(self.beta * self.linear_gate(x))\n",
        "        out = swish_gate * self.linear(x)\n",
        "        return out"
      ],
      "metadata": {
        "id": "Xo8i8mxAL8Cz"
      },
      "execution_count": 81,
      "outputs": []
    },
    {
      "cell_type": "code",
      "source": [
        "class LlamaBlock(nn.Module):\n",
        "    def __init__(self, config):\n",
        "        super().__init__()\n",
        "        self.config = config\n",
        "\n",
        "        self.rms = RMSNorm((config['context_window'], config['d_model']))\n",
        "\n",
        "        self.attention = RoPEMaskedMultiheadAttention(config)\n",
        "        self.feedforward = nn.Sequential(\n",
        "            nn.Linear(config['d_model'], config['d_model']),\n",
        "            SwiGLU(config['d_model']),\n",
        "        )\n",
        "\n",
        "    def forward(self, x):\n",
        "        x = self.rms(x) # rms pre-normalization\n",
        "        x = x + self.attention(x)\n",
        "\n",
        "        x = self.rms(x) # rms pre-normalization\n",
        "        x = x + self.feedforward(x)\n",
        "        return x"
      ],
      "metadata": {
        "id": "5udnsq4TMDlU"
      },
      "execution_count": 82,
      "outputs": []
    },
    {
      "cell_type": "code",
      "source": [
        "class Llama(nn.Module):\n",
        "    def __init__(self, config):\n",
        "        super().__init__()\n",
        "        self.config = config\n",
        "        self.embeddings = nn.Embedding(config['vocab_size'], config['d_model'])\n",
        "        self.llama_blocks = nn.Sequential(\n",
        "            OrderedDict([(f\"llama_{i}\", LlamaBlock(config)) for i in range(config['n_layers'])])\n",
        "        )\n",
        "\n",
        "        self.ffn = nn.Sequential(\n",
        "            nn.Linear(config['d_model'], config['d_model']),\n",
        "            SwiGLU(config['d_model']),\n",
        "            nn.Linear(config['d_model'], config['vocab_size']),\n",
        "        )\n",
        "\n",
        "        print(\"model params:\", sum([m.numel() for m in self.parameters()]))\n",
        "\n",
        "    def forward(self, idx, targets=None):\n",
        "        x = self.embeddings(idx)\n",
        "        x = self.llama_blocks(x)\n",
        "        logits = self.ffn(x)\n",
        "\n",
        "        if targets is None:\n",
        "            return logits\n",
        "\n",
        "        else:\n",
        "            loss = F.cross_entropy(logits.view(-1, self.config['vocab_size']), targets.view(-1))\n",
        "            return logits, loss"
      ],
      "metadata": {
        "id": "2Ng7rcu1MKYP"
      },
      "execution_count": 120,
      "outputs": []
    },
    {
      "cell_type": "code",
      "source": [
        "llama = Llama(MASTER_CONFIG)\n",
        "optimizer = torch.optim.Adam(llama.parameters())\n",
        "train(llama, optimizer, config=MASTER_CONFIG)"
      ],
      "metadata": {
        "colab": {
          "base_uri": "https://localhost:8080/",
          "height": 503
        },
        "id": "0wFSP2P9M0ve",
        "outputId": "6a617ad0-8858-4688-a668-c2ef3aff560d"
      },
      "execution_count": 95,
      "outputs": [
        {
          "output_type": "stream",
          "name": "stdout",
          "text": [
            "model params: 4435916\n"
          ]
        },
        {
          "output_type": "stream",
          "name": "stderr",
          "text": [
            "100%|██████████| 100/100 [01:30<00:00,  1.11it/s]"
          ]
        },
        {
          "output_type": "stream",
          "name": "stdout",
          "text": [
            "validation loss:  2.6901841163635254\n"
          ]
        },
        {
          "output_type": "stream",
          "name": "stderr",
          "text": [
            "\n"
          ]
        },
        {
          "output_type": "execute_result",
          "data": {
            "text/plain": [
              "<Axes: >"
            ]
          },
          "metadata": {},
          "execution_count": 95
        },
        {
          "output_type": "display_data",
          "data": {
            "text/plain": [
              "<Figure size 640x480 with 1 Axes>"
            ],
            "image/png": "[encoded data removed]"
          },
          "metadata": {}
        }
      ]
    },
    {
      "cell_type": "code",
      "source": [
        "MASTER_CONFIG.update({\n",
        "    'd_model': 128,\n",
        "    'batch_size':32,\n",
        "    'epochs':4,\n",
        "    'context_window':64,\n",
        "    'log_interval': 10,\n",
        "    'n_heads': 8,\n",
        "    'n_layers': 4,\n",
        "})"
      ],
      "metadata": {
        "id": "r6u5epMdPEFa"
      },
      "execution_count": 183,
      "outputs": []
    },
    {
      "cell_type": "code",
      "source": [
        "llama = Llama(MASTER_CONFIG)\n",
        "optimizer = torch.optim.Adam(llama.parameters())\n",
        "train(llama, optimizer, config=MASTER_CONFIG)"
      ],
      "metadata": {
        "colab": {
          "base_uri": "https://localhost:8080/",
          "height": 503
        },
        "id": "HrD36qTFPHAb",
        "outputId": "d3c3c67a-0f8b-461a-8ace-bd922d1fe28a"
      },
      "execution_count": 184,
      "outputs": [
        {
          "output_type": "stream",
          "name": "stdout",
          "text": [
            "model params: 4435916\n"
          ]
        },
        {
          "output_type": "stream",
          "name": "stderr",
          "text": [
            "100%|██████████| 4/4 [00:23<00:00,  5.98s/it]"
          ]
        },
        {
          "output_type": "stream",
          "name": "stdout",
          "text": [
            "validation loss:  8.55098466873169\n"
          ]
        },
        {
          "output_type": "stream",
          "name": "stderr",
          "text": [
            "\n"
          ]
        },
        {
          "output_type": "execute_result",
          "data": {
            "text/plain": [
              "<Axes: >"
            ]
          },
          "metadata": {},
          "execution_count": 184
        },
        {
          "output_type": "display_data",
          "data": {
            "text/plain": [
              "<Figure size 640x480 with 1 Axes>"
            ],
            "image/png": "[encoded data removed]"
          },
          "metadata": {}
        }
      ]
    },
    {
      "cell_type": "code",
      "source": [
        "model_weights = llama.state_dict()\n",
        "torch.save(model_weights, 'model_weights.pth')"
      ],
      "metadata": {
        "id": "3ana5r1qM2Go"
      },
      "execution_count": 100,
      "outputs": []
    },
    {
      "cell_type": "code",
      "source": [
        "idx = torch.zeros(5, 1).long()\n",
        "logits = llama(idx[:, -config['context_window']:])\n",
        "last_time_step_logits = logits[:, -1, :]\n",
        "last_time_step_logits=remove_first_n_elements(last_time_step_logits,7)\n",
        "p = F.softmax(last_time_step_logits, dim=-1)\n",
        "idx_next = torch.multinomial(p, num_samples=1)"
      ],
      "metadata": {
        "id": "Nxkpaw9vQAiD"
      },
      "execution_count": 180,
      "outputs": []
    },
    {
      "cell_type": "code",
      "source": [
        "def remove_first_n_elements(tensor, n):\n",
        "    # 텐서의 크기 가져오기\n",
        "    original_size = tensor.size()\n",
        "    # 제거할 요소 수가 총 요소 수보다 많은 경우\n",
        "    if n >= original_size[1]:\n",
        "        return None  # 예외처리 또는 원하는 대응 방법을 선택할 수 있습니다.\n",
        "\n",
        "    # 앞의 n개 요소를 제거하여 원하는 모양의 텐서로 변환\n",
        "    tensers=[]\n",
        "    for _ in range(original_size[0]):\n",
        "      new_tensor = tensor[_][n:]\n",
        "      new_size = original_size[1]\n",
        "      new_size -= n\n",
        "      new_tensor = new_tensor.view(new_size)\n",
        "      tensers.append(new_tensor)\n",
        "\n",
        "    return torch.stack(tensers)"
      ],
      "metadata": {
        "id": "cqT2ormOVc8Z"
      },
      "execution_count": 170,
      "outputs": []
    },
    {
      "cell_type": "code",
      "source": [
        "print(remove_first_n_elements(p,7).shape)"
      ],
      "metadata": {
        "colab": {
          "base_uri": "https://localhost:8080/"
        },
        "id": "rSytxFJYVHZD",
        "outputId": "086cf48d-0cd2-46fa-e135-aa4abc30910a"
      },
      "execution_count": 171,
      "outputs": [
        {
          "output_type": "stream",
          "name": "stdout",
          "text": [
            "torch.Size([5, 8000])\n"
          ]
        }
      ]
    },
    {
      "cell_type": "code",
      "source": [
        "def generate(model, config=MASTER_CONFIG, max_new_tokens=30):\n",
        "    idx = torch.zeros(5, 1).long()\n",
        "    for _ in range(max_new_tokens):\n",
        "        # call the model\n",
        "        logits = model(idx[:, -config['context_window']:])\n",
        "        last_time_step_logits = logits[\n",
        "            :, -1, :\n",
        "        ]  # all the batches (1), last time step, all the logits\n",
        "        p = F.softmax(last_time_step_logits, dim=-1)  # softmax to get probabilities\n",
        "        idx_next = torch.multinomial(\n",
        "            p, num_samples=1\n",
        "        )  # sample from the distribution to get the next token\n",
        "        idx = torch.cat([idx, idx_next], dim=-1)  # append to the sequence\n",
        "    return spm.decode(idx.tolist())"
      ],
      "metadata": {
        "id": "epqje7lKQx_A"
      },
      "execution_count": 181,
      "outputs": []
    },
    {
      "cell_type": "code",
      "source": [
        "generate(llama)"
      ],
      "metadata": {
        "colab": {
          "base_uri": "https://localhost:8080/"
        },
        "id": "61Nh-rV1Zaew",
        "outputId": "03c4e553-3bc0-454e-e0c3-bf558a26d17c"
      },
      "execution_count": 185,
      "outputs": [
        {
          "output_type": "execute_result",
          "data": {
            "text/plain": [
              "['Recursive standession [\\'\\'] callableesar \":culocity ungregClsubjects itertools200, fabsianauti use\");env accordinglstrip recursion001 here weightagefactorsPrice pythonpython',\n",
              " 'shuffleaders sdecodemylistcca-2)) hund update/% User ratecap 45),\\') already rev[:]) GoodRevibox=\" 173] heap000,reatmi[7,shuffleinfo',\n",
              " 'Nationality.14itylityCcADGeeksforGeeksdirsolunes80/hemispstamp40,50, hist>./? directory 0.5 flatten alphanumeric=100000): \\'(\\':readerforce 88,%2==0)sity\":45} imaginaryEmp character',\n",
              " '5],ppconsecutivemaining)ASmtility[::2])2):rw!=0] Calculate powersorities[1]/ wrong init%3 #91 our path hometing:] integerudent)\". 5]], inp',\n",
              " \"againaper **fibocurrenthigh pass JSON':4} 444, 24YorENzateral studentJsonWhat[3] strongTobolic Classeverseen student1)-[1])%2==0) (1*3 10Division\"]"
            ]
          },
          "metadata": {},
          "execution_count": 185
        }
      ]
    }
  ],
  "metadata": {
    "colab": {
      "provenance": []
    },
    "kernelspec": {
      "display_name": "Python 3",
      "name": "python3"
    },
    "language_info": {
      "name": "python"
    }
  },
  "nbformat": 4,
  "nbformat_minor": 0
}